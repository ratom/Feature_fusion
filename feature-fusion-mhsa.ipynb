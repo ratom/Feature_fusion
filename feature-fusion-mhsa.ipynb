{
 "cells": [
  {
   "cell_type": "code",
   "execution_count": 1,
   "metadata": {
    "_cell_guid": "b1076dfc-b9ad-4769-8c92-a6c4dae69d19",
    "_uuid": "8f2839f25d086af736a60e9eeb907d3b93b6e0e5",
    "execution": {
     "iopub.execute_input": "2023-11-03T05:29:39.344825Z",
     "iopub.status.busy": "2023-11-03T05:29:39.344072Z",
     "iopub.status.idle": "2023-11-03T05:29:45.472241Z",
     "shell.execute_reply": "2023-11-03T05:29:45.471427Z",
     "shell.execute_reply.started": "2023-11-03T05:29:39.344791Z"
    }
   },
   "outputs": [
    {
     "name": "stderr",
     "output_type": "stream",
     "text": [
      "/opt/conda/lib/python3.10/site-packages/scipy/__init__.py:146: UserWarning: A NumPy version >=1.16.5 and <1.23.0 is required for this version of SciPy (detected version 1.23.5\n",
      "  warnings.warn(f\"A NumPy version >={np_minversion} and <{np_maxversion}\"\n"
     ]
    }
   ],
   "source": [
    "\n",
    "import pandas as pd\n",
    "import numpy as np\n",
    "import matplotlib.pyplot as plt\n",
    "\n",
    "import torch\n",
    "from torchvision import transforms\n",
    "from torch.utils.data import Dataset, DataLoader\n",
    "import torch.nn as nn\n",
    "import torch.nn.functional as F\n",
    "\n",
    "from transformers import ViTFeatureExtractor, ViTModel, ViTConfig, AutoConfig\n",
    "\n",
    "from PIL import Image\n",
    "#from torchsummary import summary\n",
    "\n",
    "%matplotlib inline"
   ]
  },
  {
   "cell_type": "code",
   "execution_count": 2,
   "metadata": {
    "execution": {
     "iopub.execute_input": "2023-11-03T05:29:50.053368Z",
     "iopub.status.busy": "2023-11-03T05:29:50.052998Z",
     "iopub.status.idle": "2023-11-03T05:29:50.405621Z",
     "shell.execute_reply": "2023-11-03T05:29:50.404555Z",
     "shell.execute_reply.started": "2023-11-03T05:29:50.053340Z"
    }
   },
   "outputs": [],
   "source": [
    "# Load Training data\n",
    "df = pd.read_excel('/kaggle/input/cowimages/cowimagelow/train.xlsx')\n",
    "df[\"file_path\"] = '/kaggle/input/cowimages/cowimagelow/train/'+df['file']\n",
    "df[\"label\"] = df[\"class\"]"
   ]
  },
  {
   "cell_type": "code",
   "execution_count": 3,
   "metadata": {
    "execution": {
     "iopub.execute_input": "2023-11-03T05:30:00.096374Z",
     "iopub.status.busy": "2023-11-03T05:30:00.095395Z",
     "iopub.status.idle": "2023-11-03T05:30:00.105093Z",
     "shell.execute_reply": "2023-11-03T05:30:00.104106Z",
     "shell.execute_reply.started": "2023-11-03T05:30:00.096338Z"
    }
   },
   "outputs": [],
   "source": [
    "# Define function to add data/model in to GPU (cuda)\n",
    "def get_default_device():\n",
    "    if torch.cuda.is_available():\n",
    "        return torch.device('cuda')\n",
    "    else:\n",
    "        return torch.device('cpu')\n",
    "def to_device(data, device):\n",
    "    # if data is list or tuple, move each of them to device\n",
    "    if isinstance(data, (list, tuple)):\n",
    "        return [to_device(x, device) for x in data]\n",
    "    return data.to(device, non_blocking=True)\n",
    "\n",
    "class DeviceDataLoader():\n",
    "    def __init__(self, dl, device) -> None:\n",
    "        self.dl = dl\n",
    "        self.device = device\n",
    "\n",
    "    def __iter__(self):\n",
    "        for b in self.dl:\n",
    "            # yield only execuate when the function is called\n",
    "            yield to_device(b, self. device)\n",
    "\n",
    "    def __len__(self):\n",
    "        return len(self.dl)"
   ]
  },
  {
   "cell_type": "code",
   "execution_count": 5,
   "metadata": {
    "execution": {
     "iopub.execute_input": "2023-11-03T05:30:15.631174Z",
     "iopub.status.busy": "2023-11-03T05:30:15.630357Z",
     "iopub.status.idle": "2023-11-03T05:30:15.734770Z",
     "shell.execute_reply": "2023-11-03T05:30:15.733880Z",
     "shell.execute_reply.started": "2023-11-03T05:30:15.631142Z"
    }
   },
   "outputs": [],
   "source": [
    "# Define training dataset\n",
    "class cattleDataset(Dataset):\n",
    "    def __init__(self, dataframe, trans_transform=None, res_transform=None):\n",
    "        self.labels = dataframe[\"label\"]\n",
    "        self.images = dataframe[\"file_path\"]\n",
    "        self.trans_transform = trans_transform\n",
    "        self.res_transform = res_transform\n",
    "\n",
    "    def __len__ (self):\n",
    "        return len(self.labels)\n",
    "    \n",
    "    def __getitem__(self, idx):\n",
    "        img_path = self.images[idx]\n",
    "        image = Image.open(img_path)\n",
    "\n",
    "        image_trans = self.trans_transform(np.array(image), return_tensors='pt')\n",
    "        image_trans = image_trans['pixel_values'].squeeze()\n",
    "\n",
    "        image_res = self.res_transform(image)\n",
    "\n",
    "        label = self.labels[idx]\n",
    "\n",
    "        return image_trans, image_res, label\n",
    "\n",
    "trans_transform = ViTFeatureExtractor.from_pretrained('google/vit-large-patch16-224')\n",
    "res_transform = transforms.Compose([\n",
    "    transforms.Resize(256),\n",
    "    transforms.CenterCrop(224),\n",
    "    transforms.ToTensor(),\n",
    "    transforms.Normalize(mean=[0.485, 0.456, 0.406], std=[0.229, 0.224, 0.225]),\n",
    "])\n",
    "\n",
    "\n",
    "train_ds = cattleDataset(df, trans_transform=trans_transform, res_transform=res_transform)\n",
    "train_dl = DataLoader(train_ds, batch_size=16, shuffle=True)"
   ]
  },
  {
   "cell_type": "code",
   "execution_count": 6,
   "metadata": {
    "execution": {
     "iopub.execute_input": "2023-11-03T05:30:19.174231Z",
     "iopub.status.busy": "2023-11-03T05:30:19.173870Z",
     "iopub.status.idle": "2023-11-03T05:30:19.241422Z",
     "shell.execute_reply": "2023-11-03T05:30:19.240631Z",
     "shell.execute_reply.started": "2023-11-03T05:30:19.174202Z"
    }
   },
   "outputs": [],
   "source": [
    "# Load Training data\n",
    "df_test = pd.read_excel(\"/kaggle/input/cowimages/cowimagelow/test.xlsx\")\n",
    "df_test[\"file_path\"] = '/kaggle/input/cowimages/cowimagelow/test/'+df_test[\"file\"]# Create image path\n",
    "df_test[\"label\"] = df_test[\"class\"]"
   ]
  },
  {
   "cell_type": "code",
   "execution_count": 8,
   "metadata": {
    "execution": {
     "iopub.execute_input": "2023-11-03T05:30:25.326280Z",
     "iopub.status.busy": "2023-11-03T05:30:25.325569Z",
     "iopub.status.idle": "2023-11-03T05:30:25.331167Z",
     "shell.execute_reply": "2023-11-03T05:30:25.330211Z",
     "shell.execute_reply.started": "2023-11-03T05:30:25.326251Z"
    }
   },
   "outputs": [],
   "source": [
    "test_ds = cattleDataset(df_test, trans_transform=trans_transform, res_transform=res_transform)\n",
    "val_dl = DataLoader(test_ds, batch_size=16, shuffle=False)"
   ]
  },
  {
   "cell_type": "code",
   "execution_count": 9,
   "metadata": {
    "execution": {
     "iopub.execute_input": "2023-11-03T05:30:29.574499Z",
     "iopub.status.busy": "2023-11-03T05:30:29.573803Z",
     "iopub.status.idle": "2023-11-03T05:30:31.418071Z",
     "shell.execute_reply": "2023-11-03T05:30:31.417219Z",
     "shell.execute_reply.started": "2023-11-03T05:30:29.574470Z"
    }
   },
   "outputs": [
    {
     "name": "stderr",
     "output_type": "stream",
     "text": [
      "Using cache found in /root/.cache/torch/hub/pytorch_vision_v0.10.0\n",
      "/opt/conda/lib/python3.10/site-packages/torchvision/models/_utils.py:208: UserWarning: The parameter 'pretrained' is deprecated since 0.13 and may be removed in the future, please use 'weights' instead.\n",
      "  warnings.warn(\n",
      "/opt/conda/lib/python3.10/site-packages/torchvision/models/_utils.py:223: UserWarning: Arguments other than a weight enum or `None` for 'weights' are deprecated since 0.13 and may be removed in the future. The current behavior is equivalent to passing `weights=None`.\n",
      "  warnings.warn(msg)\n"
     ]
    }
   ],
   "source": [
    "# Modify the model - ResNet\n",
    "model_Res = torch.hub.load('pytorch/vision:v0.10.0', 'resnet50', pretrained=False)\n",
    "\n",
    "# Remove the last layer of the model Res\n",
    "layers_Res = list(model_Res.children())\n",
    "model_Res = nn.Sequential(*layers_Res[:-1])\n",
    "\n",
    "# Set the top layers to be not trainable\n",
    "count = 0\n",
    "for child in model_Res.children():\n",
    "    count += 1\n",
    "    if count < 8:\n",
    "        for param in child.parameters():\n",
    "            param.requires_grad = False\n",
    "# Modify the model - ViT model\n",
    "\n",
    "from transformers import ViTModel, ViTConfig\n",
    "# Load the pre-trained ViT model\n",
    "config = ViTConfig()\n",
    "model_trans = ViTModel(config)\n",
    "count = 0\n",
    "for child in model_trans.children():\n",
    "    count += 1\n",
    "    if count < 4:\n",
    "        for param in child.parameters():\n",
    "            param.requires_grad = False\n",
    "\n",
    "layers_trans = list(model_trans.children()) # Get all the layers from the Transformer model\n",
    "model_trans_top = nn.Sequential(*layers_trans[:-2]) # Remove the normalization layer and pooler layer\n",
    "trans_layer_norm = list(model_trans.children())[2] # Get the normalization layer"
   ]
  },
  {
   "cell_type": "code",
   "execution_count": 10,
   "metadata": {
    "execution": {
     "iopub.execute_input": "2023-11-03T05:30:36.528438Z",
     "iopub.status.busy": "2023-11-03T05:30:36.528074Z",
     "iopub.status.idle": "2023-11-03T05:30:36.538259Z",
     "shell.execute_reply": "2023-11-03T05:30:36.537269Z",
     "shell.execute_reply.started": "2023-11-03T05:30:36.528410Z"
    }
   },
   "outputs": [],
   "source": [
    "class model_final(nn.Module):\n",
    "    def __init__(self, model_trans_top, model_Res, dp_rate = 0.3):\n",
    "        super().__init__()\n",
    "        # All the trans model layers\n",
    "        self.model_trans_top = model_trans_top\n",
    "        #self.trans_layer_norm = trans_layer_norm\n",
    "        self.trans_flatten = nn.Flatten()\n",
    "        self.trans_linear = nn.Linear(150528, 2048)\n",
    "\n",
    "        # All the ResNet model\n",
    "        self.model_Res = model_Res\n",
    "\n",
    "        # Merge the result and pass \n",
    "        self.dropout = nn.Dropout(dp_rate)\n",
    "        self.linear1 = nn.Linear(2048, 25)\n",
    "    \n",
    "        self.self_attention = nn.MultiheadAttention(embed_dim=2048, num_heads=8)\n",
    "     \n",
    "\n",
    "\n",
    "    def forward(self, trans_b, res_b):\n",
    "        # Get intermediate outputs using hidden layer\n",
    "        result_trans = self.model_trans_top(trans_b)\n",
    "        patch_state = result_trans.last_hidden_state[:,1:,:] # Remove the classification token and get the last hidden state of all patchs\n",
    "        #result_trans = self.trans_layer_norm(patch_state)\n",
    "        result_trans = self.trans_flatten(patch_state)\n",
    "        result_trans = self.dropout(result_trans)\n",
    "        result_trans = self.trans_linear(result_trans)\n",
    "\n",
    "       # print('\\n ViT features  shape', result_trans.shape)\n",
    "\n",
    "        result_res = self.model_Res(res_b)\n",
    "\n",
    "        # result_res = result_res.squeeze() # Batch size cannot be 1\n",
    "        result_res = torch.reshape(result_res, (result_res.shape[0], result_res.shape[1]))\n",
    "\n",
    "        x = result_trans.unsqueeze(0)\n",
    "        y = result_res.unsqueeze(0)\n",
    "        x, _ = self.self_attention(x,y,x)\n",
    "        result_merge = x.squeeze()\n",
    "        \n",
    "     \n",
    "\n",
    "        result_merge = self.dropout(result_merge)\n",
    "        result_merge = self.linear1(result_merge)\n",
    "\n",
    "\n",
    "\n",
    "\n",
    "        return result_merge\n"
   ]
  },
  {
   "cell_type": "code",
   "execution_count": 11,
   "metadata": {
    "execution": {
     "iopub.execute_input": "2023-11-03T05:30:42.587456Z",
     "iopub.status.busy": "2023-11-03T05:30:42.586704Z",
     "iopub.status.idle": "2023-11-03T05:30:45.281271Z",
     "shell.execute_reply": "2023-11-03T05:30:45.280352Z",
     "shell.execute_reply.started": "2023-11-03T05:30:42.587426Z"
    }
   },
   "outputs": [],
   "source": [
    "model = model_final(model_trans_top, model_Res, dp_rate=0.3)"
   ]
  },
  {
   "cell_type": "code",
   "execution_count": 12,
   "metadata": {
    "execution": {
     "iopub.execute_input": "2023-11-03T05:30:49.244042Z",
     "iopub.status.busy": "2023-11-03T05:30:49.243715Z",
     "iopub.status.idle": "2023-11-03T05:30:52.141236Z",
     "shell.execute_reply": "2023-11-03T05:30:52.140437Z",
     "shell.execute_reply.started": "2023-11-03T05:30:49.244019Z"
    }
   },
   "outputs": [],
   "source": [
    "\n",
    "device = torch.device('cuda:0' if torch.cuda.is_available() else 'cpu')\n",
    "train_dl = DeviceDataLoader(train_dl, device)\n",
    "val_dl=DeviceDataLoader(val_dl, device)\n",
    "model = to_device(model, device)"
   ]
  },
  {
   "cell_type": "code",
   "execution_count": 18,
   "metadata": {
    "execution": {
     "iopub.execute_input": "2023-11-03T05:35:27.670289Z",
     "iopub.status.busy": "2023-11-03T05:35:27.669417Z",
     "iopub.status.idle": "2023-11-03T05:35:27.684130Z",
     "shell.execute_reply": "2023-11-03T05:35:27.683176Z",
     "shell.execute_reply.started": "2023-11-03T05:35:27.670255Z"
    }
   },
   "outputs": [],
   "source": [
    "# Define optimizer and learning_rate scheduler\n",
    "params = [param for param in list(model.parameters()) if param.requires_grad]\n",
    "optimizer = torch.optim.Adam(params, lr=1e-4)\n",
    "lr_scheduler = torch.optim.lr_scheduler.ReduceLROnPlateau(\n",
    "    optimizer, \n",
    "    mode='min', \n",
    "    factor=0.1, \n",
    "    patience=2, \n",
    "    verbose=True)\n",
    "\n",
    "def fit(epochs, model, train_dl, val_dl, patience=5):\n",
    "    device = next(model.parameters()).device\n",
    "    opt = optimizer\n",
    "    sched = lr_scheduler\n",
    "    loss_func = nn.CrossEntropyLoss()\n",
    "    \n",
    "    best_val_accuracy = 0\n",
    "    no_improvement_count = 0\n",
    "    \n",
    "    for epoch in range(epochs):\n",
    "        model.train()\n",
    "        batch_num = 1\n",
    "        total_loss = 0\n",
    "        for x_trans, x_res, yb in train_dl:\n",
    "            x_trans = x_trans.to(device)\n",
    "            x_res = x_res.to(device)\n",
    "            yb = yb.to(device)\n",
    "            \n",
    "            preds = model(x_trans, x_res)\n",
    "            loss = loss_func(preds.squeeze(), yb)\n",
    "            loss.backward()\n",
    "            opt.step()\n",
    "            opt.zero_grad()\n",
    "            print('\\r', f'batch #{batch_num}: {loss}', end='')\n",
    "            batch_num += 1\n",
    "            total_loss += loss.item()\n",
    "        \n",
    "        sched.step(total_loss)\n",
    "\n",
    "        model.eval()\n",
    "        num_correct = 0\n",
    "        num_total = 0\n",
    "        with torch.no_grad():\n",
    "            for x_trans, x_res, yb in val_dl:\n",
    "                x_trans = x_trans.to(device)\n",
    "                x_res = x_res.to(device)\n",
    "                yb = yb.to(device)\n",
    "                \n",
    "                preds = model(x_trans, x_res)\n",
    "                _, predicted = torch.max(preds.data, 1)\n",
    "                num_correct += (predicted == yb).sum().item()\n",
    "                num_total += yb.size(0)\n",
    "        \n",
    "        val_accuracy = 100 * num_correct / num_total\n",
    "        print('\\n', f'Epoch: ({epoch+1}/{epochs}) Loss = {total_loss}, Validation Accuracy = {val_accuracy}%')\n",
    "\n",
    "        # Early stopping check\n",
    "        if val_accuracy > best_val_accuracy:\n",
    "            best_val_accuracy = val_accuracy\n",
    "            no_improvement_count = 0\n",
    "        else:\n",
    "            no_improvement_count += 1\n",
    "        \n",
    "        if no_improvement_count >= patience:\n",
    "            print(f'\\nEarly stopping after {patience} epochs without improvement.')\n",
    "            break   \n"
   ]
  },
  {
   "cell_type": "code",
   "execution_count": 19,
   "metadata": {
    "execution": {
     "iopub.execute_input": "2023-11-03T05:35:31.727859Z",
     "iopub.status.busy": "2023-11-03T05:35:31.727232Z",
     "iopub.status.idle": "2023-11-03T06:42:46.721071Z",
     "shell.execute_reply": "2023-11-03T06:42:46.720051Z",
     "shell.execute_reply.started": "2023-11-03T05:35:31.727826Z"
    }
   },
   "outputs": [
    {
     "name": "stdout",
     "output_type": "stream",
     "text": [
      " batch #157: 3.8495378494262695\n",
      " Epoch: (1/50) Loss = 423.784587264061, Validation Accuracy = 24.96%\n",
      " batch #157: 2.4673576354980479\n",
      " Epoch: (2/50) Loss = 243.27973318099976, Validation Accuracy = 57.76%\n",
      " batch #157: 3.43405938148498543\n",
      " Epoch: (3/50) Loss = 170.08749628067017, Validation Accuracy = 49.6%\n",
      " batch #157: 2.58095741271972667\n",
      " Epoch: (4/50) Loss = 121.97478483617306, Validation Accuracy = 75.36%\n",
      " batch #157: 1.81046235561370855\n",
      " Epoch: (5/50) Loss = 102.25877468287945, Validation Accuracy = 80.48%\n",
      " batch #157: 0.13891966640949256\n",
      " Epoch: (6/50) Loss = 66.75376179255545, Validation Accuracy = 81.12%\n",
      " batch #157: 2.234241962432861365\n",
      " Epoch: (7/50) Loss = 56.71110728569329, Validation Accuracy = 69.92%\n",
      " batch #157: 1.79490077495574955\n",
      " Epoch: (8/50) Loss = 79.76135828904808, Validation Accuracy = 81.92%\n",
      " batch #157: 3.656787872314453545\n",
      " Epoch: (9/50) Loss = 55.271404610946774, Validation Accuracy = 89.6%\n",
      " batch #157: 2.715894937515259464\n",
      " Epoch: (10/50) Loss = 49.44908583816141, Validation Accuracy = 89.92%\n",
      " batch #157: 0.137363120913505554\n",
      " Epoch: (11/50) Loss = 55.105423520319164, Validation Accuracy = 91.52%\n",
      " batch #157: 0.023296406492590904\n",
      " Epoch: (12/50) Loss = 38.349612234625965, Validation Accuracy = 90.24%\n",
      " batch #157: 1.5745151042938232246\n",
      " Epoch: (13/50) Loss = 44.10952372371685, Validation Accuracy = 81.28%\n",
      " batch #157: 3.3760087490081787886\n",
      " Epoch: (14/50) Loss = 37.12344356882386, Validation Accuracy = 92.48%\n",
      " batch #157: 6.898475646972656346\n",
      " Epoch: (15/50) Loss = 53.99043800868094, Validation Accuracy = 78.4%\n",
      " batch #157: 1.6949172019958496286\n",
      " Epoch: (16/50) Loss = 56.73176064551808, Validation Accuracy = 88.8%\n",
      " batch #157: 0.2845827937126159762\n",
      " Epoch: (17/50) Loss = 27.915726746083237, Validation Accuracy = 90.72%\n",
      " batch #157: 1.1660497188568115556\n",
      " Epoch: (18/50) Loss = 21.90774389595026, Validation Accuracy = 93.92%\n",
      " batch #157: 1.3437302112579346116\n",
      " Epoch: (19/50) Loss = 41.10690011852421, Validation Accuracy = 94.88%\n",
      " batch #157: 0.0051955785602331167\n",
      " Epoch: (20/50) Loss = 35.86651307417196, Validation Accuracy = 90.24%\n",
      " batch #157: 0.02315674349665641814\n",
      " Epoch: (21/50) Loss = 17.134501039254246, Validation Accuracy = 91.68%\n",
      " batch #157: 0.3921191394329071367\n",
      " Epoch: (22/50) Loss = 28.146023527748184, Validation Accuracy = 90.72%\n",
      " batch #157: 4.5181565284729599626\n",
      " Epoch: (23/50) Loss = 34.65714441701857, Validation Accuracy = 89.92%\n",
      " batch #157: 0.43253833055496216Epoch 00024: reducing learning rate of group 0 to 1.0000e-05.\n",
      "\n",
      " Epoch: (24/50) Loss = 42.92959956303821, Validation Accuracy = 87.84%\n",
      " batch #157: 2.36915159225463878563\n",
      " Epoch: (25/50) Loss = 16.922927251376677, Validation Accuracy = 95.52%\n",
      " batch #157: 0.37941113114356995596\n",
      " Epoch: (26/50) Loss = 7.522606568461924, Validation Accuracy = 95.52%\n",
      " batch #157: 0.00708415079861879358\n",
      " Epoch: (27/50) Loss = 5.3437246431203675, Validation Accuracy = 96.0%\n",
      " batch #157: 1.32639670372009288848\n",
      " Epoch: (28/50) Loss = 6.3203899725631345, Validation Accuracy = 95.84%\n",
      " batch #157: 0.75500929355621349374\n",
      " Epoch: (29/50) Loss = 5.643547287099864, Validation Accuracy = 95.04%\n",
      " batch #157: 0.08206628262996674481\n",
      " Epoch: (30/50) Loss = 3.3148107135057217, Validation Accuracy = 97.12%\n",
      " batch #157: 0.02461014501750469273\n",
      " Epoch: (31/50) Loss = 3.647477967829218, Validation Accuracy = 96.16%\n",
      " batch #157: 0.00574244745075702765\n",
      " Epoch: (32/50) Loss = 4.907493352801339, Validation Accuracy = 96.32%\n",
      " batch #157: 0.003234150353819132Epoch 00033: reducing learning rate of group 0 to 1.0000e-06.\n",
      "\n",
      " Epoch: (33/50) Loss = 3.525699978645207, Validation Accuracy = 97.28%\n",
      " batch #157: 0.00343768531456589783\n",
      " Epoch: (34/50) Loss = 5.768865923902922, Validation Accuracy = 96.8%\n",
      " batch #157: 0.04007439687848091624\n",
      " Epoch: (35/50) Loss = 4.297307505294157, Validation Accuracy = 96.32%\n",
      " batch #157: 0.04146401584148407Epoch 00036: reducing learning rate of group 0 to 1.0000e-07.\n",
      "\n",
      " Epoch: (36/50) Loss = 3.554010922053749, Validation Accuracy = 97.28%\n",
      " batch #157: 0.26548126339912415473\n",
      " Epoch: (37/50) Loss = 3.085676420965683, Validation Accuracy = 96.64%\n",
      " batch #157: 0.19813548028469086641\n",
      " Epoch: (38/50) Loss = 3.8378174535246217, Validation Accuracy = 96.32%\n",
      " batch #157: 2.78755664825439459661\n",
      " Epoch: (39/50) Loss = 6.286597739411263, Validation Accuracy = 96.64%\n",
      " batch #157: 1.2294716835021973Epoch 00040: reducing learning rate of group 0 to 1.0000e-08.\n",
      "\n",
      " Epoch: (40/50) Loss = 4.083729318521364, Validation Accuracy = 96.64%\n",
      " batch #157: 0.03458494320511818266\n",
      " Epoch: (41/50) Loss = 1.5955396413412473, Validation Accuracy = 97.28%\n",
      " batch #157: 0.26786142587661743054\n",
      " Epoch: (42/50) Loss = 3.805623551219469, Validation Accuracy = 96.48%\n",
      " batch #157: 1.99419856071472172487\n",
      " Epoch: (43/50) Loss = 5.704770274987823, Validation Accuracy = 97.12%\n",
      " batch #157: 1.93374752998352054885\n",
      " Epoch: (44/50) Loss = 6.109692848604027, Validation Accuracy = 97.44%\n",
      " batch #157: 1.85067347047152e-0557\n",
      " Epoch: (45/50) Loss = 2.4401202980498056, Validation Accuracy = 96.8%\n",
      " batch #157: 0.00211340771056711676\n",
      " Epoch: (46/50) Loss = 2.0738648027399904, Validation Accuracy = 96.32%\n",
      " batch #157: 0.03713898733258247427\n",
      " Epoch: (47/50) Loss = 2.4517140152693173, Validation Accuracy = 96.96%\n",
      " batch #157: 0.00125256925821304325\n",
      " Epoch: (48/50) Loss = 2.451688260470746, Validation Accuracy = 97.12%\n",
      " batch #157: 0.00075115408981218933\n",
      " Epoch: (49/50) Loss = 5.841760662629895, Validation Accuracy = 97.28%\n",
      " batch #157: 0.10099912434816365985\n",
      " Epoch: (50/50) Loss = 2.1044195478134498, Validation Accuracy = 97.12%\n"
     ]
    }
   ],
   "source": [
    "fit(50, model, train_dl, val_dl,10)\n"
   ]
  }
 ],
 "metadata": {
  "kernelspec": {
   "display_name": "Python 3 (ipykernel)",
   "language": "python",
   "name": "python3"
  },
  "language_info": {
   "codemirror_mode": {
    "name": "ipython",
    "version": 3
   },
   "file_extension": ".py",
   "mimetype": "text/x-python",
   "name": "python",
   "nbconvert_exporter": "python",
   "pygments_lexer": "ipython3",
   "version": "3.11.4"
  }
 },
 "nbformat": 4,
 "nbformat_minor": 4
}
