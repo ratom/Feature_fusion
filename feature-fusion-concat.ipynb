{
 "cells": [
  {
   "cell_type": "code",
   "execution_count": 1,
   "metadata": {
    "_cell_guid": "b1076dfc-b9ad-4769-8c92-a6c4dae69d19",
    "_uuid": "8f2839f25d086af736a60e9eeb907d3b93b6e0e5",
    "execution": {
     "iopub.execute_input": "2023-11-03T12:33:17.645327Z",
     "iopub.status.busy": "2023-11-03T12:33:17.644598Z",
     "iopub.status.idle": "2023-11-03T12:33:29.707901Z",
     "shell.execute_reply": "2023-11-03T12:33:29.706999Z",
     "shell.execute_reply.started": "2023-11-03T12:33:17.645285Z"
    }
   },
   "outputs": [
    {
     "name": "stderr",
     "output_type": "stream",
     "text": [
      "/opt/conda/lib/python3.10/site-packages/scipy/__init__.py:146: UserWarning: A NumPy version >=1.16.5 and <1.23.0 is required for this version of SciPy (detected version 1.23.5\n",
      "  warnings.warn(f\"A NumPy version >={np_minversion} and <{np_maxversion}\"\n"
     ]
    }
   ],
   "source": [
    "\n",
    "import pandas as pd\n",
    "import numpy as np\n",
    "import matplotlib.pyplot as plt\n",
    "\n",
    "import torch\n",
    "from torchvision import transforms\n",
    "from torch.utils.data import Dataset, DataLoader\n",
    "import torch.nn as nn\n",
    "import torch.nn.functional as F\n",
    "\n",
    "from transformers import ViTFeatureExtractor, ViTModel, ViTConfig, AutoConfig\n",
    "\n",
    "from PIL import Image\n",
    "#from torchsummary import summary\n",
    "\n",
    "%matplotlib inline"
   ]
  },
  {
   "cell_type": "code",
   "execution_count": 2,
   "metadata": {
    "execution": {
     "iopub.execute_input": "2023-11-03T12:33:29.710189Z",
     "iopub.status.busy": "2023-11-03T12:33:29.709839Z",
     "iopub.status.idle": "2023-11-03T12:33:30.204102Z",
     "shell.execute_reply": "2023-11-03T12:33:30.203113Z",
     "shell.execute_reply.started": "2023-11-03T12:33:29.710156Z"
    }
   },
   "outputs": [],
   "source": [
    "# Load Training data\n",
    "df = pd.read_excel('/kaggle/input/cowimages/cowimagelow/train.xlsx')\n",
    "df[\"file_path\"] = '/kaggle/input/cowimages/cowimagelow/train/'+df['file']\n",
    "df[\"label\"] = df[\"class\"]"
   ]
  },
  {
   "cell_type": "code",
   "execution_count": 3,
   "metadata": {
    "execution": {
     "iopub.execute_input": "2023-11-03T12:33:30.206225Z",
     "iopub.status.busy": "2023-11-03T12:33:30.205501Z",
     "iopub.status.idle": "2023-11-03T12:33:30.215006Z",
     "shell.execute_reply": "2023-11-03T12:33:30.214125Z",
     "shell.execute_reply.started": "2023-11-03T12:33:30.206191Z"
    }
   },
   "outputs": [],
   "source": [
    "# Define function to add data/model in to GPU (cuda)\n",
    "def get_default_device():\n",
    "    if torch.cuda.is_available():\n",
    "        return torch.device('cuda')\n",
    "    else:\n",
    "        return torch.device('cpu')\n",
    "def to_device(data, device):\n",
    "    # if data is list or tuple, move each of them to device\n",
    "    if isinstance(data, (list, tuple)):\n",
    "        return [to_device(x, device) for x in data]\n",
    "    return data.to(device, non_blocking=True)\n",
    "\n",
    "class DeviceDataLoader():\n",
    "    def __init__(self, dl, device) -> None:\n",
    "        self.dl = dl\n",
    "        self.device = device\n",
    "\n",
    "    def __iter__(self):\n",
    "        for b in self.dl:\n",
    "            # yield only execuate when the function is called\n",
    "            yield to_device(b, self. device)\n",
    "\n",
    "    def __len__(self):\n",
    "        return len(self.dl)"
   ]
  },
  {
   "cell_type": "code",
   "execution_count": 5,
   "metadata": {
    "execution": {
     "iopub.execute_input": "2023-11-03T12:33:30.720497Z",
     "iopub.status.busy": "2023-11-03T12:33:30.720129Z",
     "iopub.status.idle": "2023-11-03T12:33:30.950862Z",
     "shell.execute_reply": "2023-11-03T12:33:30.949930Z",
     "shell.execute_reply.started": "2023-11-03T12:33:30.720464Z"
    }
   },
   "outputs": [],
   "source": [
    "# Define training dataset\n",
    "class cattleDataset(Dataset):\n",
    "    def __init__(self, dataframe, trans_transform=None, res_transform=None):\n",
    "        self.labels = dataframe[\"label\"]\n",
    "        self.images = dataframe[\"file_path\"]\n",
    "        self.trans_transform = trans_transform\n",
    "        self.res_transform = res_transform\n",
    "\n",
    "    def __len__ (self):\n",
    "        return len(self.labels)\n",
    "    \n",
    "    def __getitem__(self, idx):\n",
    "        img_path = self.images[idx]\n",
    "        image = Image.open(img_path)\n",
    "\n",
    "        image_trans = self.trans_transform(np.array(image), return_tensors='pt')\n",
    "        image_trans = image_trans['pixel_values'].squeeze()\n",
    "\n",
    "        image_res = self.res_transform(image)\n",
    "\n",
    "        label = self.labels[idx]\n",
    "\n",
    "        return image_trans, image_res, label\n",
    "\n",
    "trans_transform = ViTFeatureExtractor.from_pretrained('google/vit-large-patch16-224')\n",
    "res_transform = transforms.Compose([\n",
    "    transforms.Resize(256),\n",
    "    transforms.CenterCrop(224),\n",
    "    transforms.ToTensor(),\n",
    "    transforms.Normalize(mean=[0.485, 0.456, 0.406], std=[0.229, 0.224, 0.225]),\n",
    "])\n",
    "\n",
    "\n",
    "train_ds = cattleDataset(df, trans_transform=trans_transform, res_transform=res_transform)\n",
    "train_dl = DataLoader(train_ds, batch_size=16, shuffle=True)"
   ]
  },
  {
   "cell_type": "code",
   "execution_count": 7,
   "metadata": {
    "execution": {
     "iopub.execute_input": "2023-11-03T12:33:50.680734Z",
     "iopub.status.busy": "2023-11-03T12:33:50.680323Z",
     "iopub.status.idle": "2023-11-03T12:33:50.745984Z",
     "shell.execute_reply": "2023-11-03T12:33:50.745075Z",
     "shell.execute_reply.started": "2023-11-03T12:33:50.680702Z"
    }
   },
   "outputs": [],
   "source": [
    "# Load Training data\n",
    "df_test = pd.read_excel(\"/kaggle/input/cowimages/cowimagelow/test.xlsx\")\n",
    "df_test[\"file_path\"] = '/kaggle/input/cowimages/cowimagelow/test/'+df_test[\"file\"]# Create image path\n",
    "df_test[\"label\"] = df_test[\"class\"]"
   ]
  },
  {
   "cell_type": "code",
   "execution_count": 8,
   "metadata": {
    "execution": {
     "iopub.execute_input": "2023-11-03T12:33:56.001590Z",
     "iopub.status.busy": "2023-11-03T12:33:56.001184Z",
     "iopub.status.idle": "2023-11-03T12:33:56.006795Z",
     "shell.execute_reply": "2023-11-03T12:33:56.005523Z",
     "shell.execute_reply.started": "2023-11-03T12:33:56.001548Z"
    }
   },
   "outputs": [],
   "source": [
    "test_ds = cattleDataset(df_test, trans_transform=trans_transform, res_transform=res_transform)\n",
    "val_dl = DataLoader(test_ds, batch_size=16, shuffle=False)"
   ]
  },
  {
   "cell_type": "code",
   "execution_count": 9,
   "metadata": {
    "execution": {
     "iopub.execute_input": "2023-11-03T12:34:01.200880Z",
     "iopub.status.busy": "2023-11-03T12:34:01.199930Z",
     "iopub.status.idle": "2023-11-03T12:34:05.743459Z",
     "shell.execute_reply": "2023-11-03T12:34:05.742439Z",
     "shell.execute_reply.started": "2023-11-03T12:34:01.200846Z"
    }
   },
   "outputs": [
    {
     "name": "stderr",
     "output_type": "stream",
     "text": [
      "Downloading: \"https://github.com/pytorch/vision/zipball/v0.10.0\" to /root/.cache/torch/hub/v0.10.0.zip\n",
      "/opt/conda/lib/python3.10/site-packages/torchvision/models/_utils.py:208: UserWarning: The parameter 'pretrained' is deprecated since 0.13 and may be removed in the future, please use 'weights' instead.\n",
      "  warnings.warn(\n",
      "/opt/conda/lib/python3.10/site-packages/torchvision/models/_utils.py:223: UserWarning: Arguments other than a weight enum or `None` for 'weights' are deprecated since 0.13 and may be removed in the future. The current behavior is equivalent to passing `weights=None`.\n",
      "  warnings.warn(msg)\n"
     ]
    }
   ],
   "source": [
    "# Modify the model - ResNet\n",
    "model_Res = torch.hub.load('pytorch/vision:v0.10.0', 'resnet50', pretrained=False)\n",
    "\n",
    "# Remove the last layer of the model Res\n",
    "layers_Res = list(model_Res.children())\n",
    "model_Res = nn.Sequential(*layers_Res[:-1])\n",
    "\n",
    "# Set the top layers to be not trainable\n",
    "count = 0\n",
    "for child in model_Res.children():\n",
    "    count += 1\n",
    "    if count < 8:\n",
    "        for param in child.parameters():\n",
    "            param.requires_grad = False\n",
    "# Modify the model - ViT model\n",
    "\n",
    "from transformers import ViTModel, ViTConfig\n",
    "# Load the pre-trained ViT model\n",
    "config = ViTConfig()\n",
    "model_trans = ViTModel(config)\n",
    "count = 0\n",
    "for child in model_trans.children():\n",
    "    count += 1\n",
    "    if count < 4:\n",
    "        for param in child.parameters():\n",
    "            param.requires_grad = False\n",
    "\n",
    "layers_trans = list(model_trans.children()) # Get all the layers from the Transformer model\n",
    "model_trans_top = nn.Sequential(*layers_trans[:-2]) # Remove the normalization layer and pooler layer\n",
    "trans_layer_norm = list(model_trans.children())[2] # Get the normalization layer"
   ]
  },
  {
   "cell_type": "code",
   "execution_count": 11,
   "metadata": {
    "execution": {
     "iopub.execute_input": "2023-11-03T12:34:16.504257Z",
     "iopub.status.busy": "2023-11-03T12:34:16.503888Z",
     "iopub.status.idle": "2023-11-03T12:34:16.513982Z",
     "shell.execute_reply": "2023-11-03T12:34:16.513060Z",
     "shell.execute_reply.started": "2023-11-03T12:34:16.504228Z"
    }
   },
   "outputs": [],
   "source": [
    "class model_final(nn.Module):\n",
    "    def __init__(self, model_trans_top, model_Res, dp_rate = 0.3):\n",
    "        super().__init__()\n",
    "        # All the trans model layers\n",
    "        self.model_trans_top = model_trans_top\n",
    "        #self.trans_layer_norm = trans_layer_norm\n",
    "        self.trans_flatten = nn.Flatten()\n",
    "        self.trans_linear = nn.Linear(150528, 2048)\n",
    "\n",
    "        # All the ResNet model\n",
    "        self.model_Res = model_Res\n",
    "\n",
    "        # Merge the result and pass \n",
    "        self.dropout = nn.Dropout(dp_rate)\n",
    "        self.linear1 = nn.Linear(4096, 25)\n",
    "    \n",
    "        self.self_attention = nn.MultiheadAttention(embed_dim=2048, num_heads=8)\n",
    "     \n",
    "\n",
    "\n",
    "    def forward(self, trans_b, res_b):\n",
    "        # Get intermediate outputs using hidden layer\n",
    "        result_trans = self.model_trans_top(trans_b)\n",
    "        patch_state = result_trans.last_hidden_state[:,1:,:] # Remove the classification token and get the last hidden state of all patchs\n",
    "        #result_trans = self.trans_layer_norm(patch_state)\n",
    "        result_trans = self.trans_flatten(patch_state)\n",
    "        result_trans = self.dropout(result_trans)\n",
    "        result_trans = self.trans_linear(result_trans)\n",
    "\n",
    "       # print('\\n ViT features  shape', result_trans.shape)\n",
    "\n",
    "        result_res = self.model_Res(res_b)\n",
    "\n",
    "        # result_res = result_res.squeeze() # Batch size cannot be 1\n",
    "        result_res = torch.reshape(result_res, (result_res.shape[0], result_res.shape[1]))\n",
    "        \n",
    "        result_merge = torch.cat((result_trans, result_res),1)\n",
    "        \n",
    "     \n",
    "\n",
    "        result_merge = self.dropout(result_merge)\n",
    "        result_merge = self.linear1(result_merge)\n",
    "\n",
    "\n",
    "\n",
    "\n",
    "        return result_merge\n"
   ]
  },
  {
   "cell_type": "code",
   "execution_count": 12,
   "metadata": {
    "execution": {
     "iopub.execute_input": "2023-11-03T12:34:33.319573Z",
     "iopub.status.busy": "2023-11-03T12:34:33.319186Z",
     "iopub.status.idle": "2023-11-03T12:34:35.996365Z",
     "shell.execute_reply": "2023-11-03T12:34:35.995532Z",
     "shell.execute_reply.started": "2023-11-03T12:34:33.319542Z"
    }
   },
   "outputs": [],
   "source": [
    "model = model_final(model_trans_top, model_Res, dp_rate=0.3)"
   ]
  },
  {
   "cell_type": "code",
   "execution_count": 13,
   "metadata": {
    "execution": {
     "iopub.execute_input": "2023-11-03T12:34:39.392552Z",
     "iopub.status.busy": "2023-11-03T12:34:39.392184Z",
     "iopub.status.idle": "2023-11-03T12:34:44.365979Z",
     "shell.execute_reply": "2023-11-03T12:34:44.364908Z",
     "shell.execute_reply.started": "2023-11-03T12:34:39.392524Z"
    }
   },
   "outputs": [],
   "source": [
    "\n",
    "device = torch.device('cuda:0' if torch.cuda.is_available() else 'cpu')\n",
    "train_dl = DeviceDataLoader(train_dl, device)\n",
    "val_dl=DeviceDataLoader(val_dl, device)\n",
    "model = to_device(model, device)"
   ]
  },
  {
   "cell_type": "code",
   "execution_count": 15,
   "metadata": {
    "execution": {
     "iopub.execute_input": "2023-11-03T12:34:51.923864Z",
     "iopub.status.busy": "2023-11-03T12:34:51.923496Z",
     "iopub.status.idle": "2023-11-03T12:34:51.940054Z",
     "shell.execute_reply": "2023-11-03T12:34:51.938995Z",
     "shell.execute_reply.started": "2023-11-03T12:34:51.923835Z"
    }
   },
   "outputs": [],
   "source": [
    "# Define optimizer and learning_rate scheduler\n",
    "params = [param for param in list(model.parameters()) if param.requires_grad]\n",
    "optimizer = torch.optim.Adam(params, lr=1e-4)\n",
    "lr_scheduler = torch.optim.lr_scheduler.ReduceLROnPlateau(\n",
    "    optimizer, \n",
    "    mode='min', \n",
    "    factor=0.1, \n",
    "    patience=2, \n",
    "    verbose=True)\n",
    "\n",
    "# Fit function doing grad steps\n",
    "def fit(epochs, model, train_dl, val_dl, patience=5):\n",
    "    device = next(model.parameters()).device\n",
    "    opt = optimizer\n",
    "    sched = lr_scheduler\n",
    "    loss_func = nn.CrossEntropyLoss()\n",
    "    \n",
    "    best_val_accuracy = 0\n",
    "    no_improvement_count = 0\n",
    "    \n",
    "    for epoch in range(epochs):\n",
    "        model.train()\n",
    "        batch_num = 1\n",
    "        total_loss = 0\n",
    "        for x_trans, x_res, yb in train_dl:\n",
    "            x_trans = x_trans.to(device)\n",
    "            x_res = x_res.to(device)\n",
    "            yb = yb.to(device)\n",
    "            \n",
    "            preds = model(x_trans, x_res)\n",
    "            loss = loss_func(preds.squeeze(), yb)\n",
    "            loss.backward()\n",
    "            opt.step()\n",
    "            opt.zero_grad()\n",
    "            print('\\r', f'batch #{batch_num}: {loss}', end='')\n",
    "            batch_num += 1\n",
    "            total_loss += loss.item()\n",
    "        \n",
    "        sched.step(total_loss)\n",
    "\n",
    "        model.eval()\n",
    "        num_correct = 0\n",
    "        num_total = 0\n",
    "        with torch.no_grad():\n",
    "            for x_trans, x_res, yb in val_dl:\n",
    "                x_trans = x_trans.to(device)\n",
    "                x_res = x_res.to(device)\n",
    "                yb = yb.to(device)\n",
    "                \n",
    "                preds = model(x_trans, x_res)\n",
    "                _, predicted = torch.max(preds.data, 1)\n",
    "                num_correct += (predicted == yb).sum().item()\n",
    "                num_total += yb.size(0)\n",
    "        \n",
    "        val_accuracy = 100 * num_correct / num_total\n",
    "        print('\\n', f'Epoch: ({epoch+1}/{epochs}) Loss = {total_loss}, Validation Accuracy = {val_accuracy}%')\n",
    "\n",
    "        # Early stopping check\n",
    "        if val_accuracy > best_val_accuracy:\n",
    "            best_val_accuracy = val_accuracy\n",
    "            no_improvement_count = 0\n",
    "        else:\n",
    "            no_improvement_count += 1\n",
    "        \n",
    "        if no_improvement_count >= patience:\n",
    "            print(f'\\nEarly stopping after {patience} epochs without improvement.')\n",
    "            break   \n"
   ]
  },
  {
   "cell_type": "code",
   "execution_count": 16,
   "metadata": {
    "execution": {
     "iopub.execute_input": "2023-11-03T12:34:59.900581Z",
     "iopub.status.busy": "2023-11-03T12:34:59.899853Z",
     "iopub.status.idle": "2023-11-03T13:42:47.857844Z",
     "shell.execute_reply": "2023-11-03T13:42:47.856930Z",
     "shell.execute_reply.started": "2023-11-03T12:34:59.900548Z"
    }
   },
   "outputs": [
    {
     "name": "stdout",
     "output_type": "stream",
     "text": [
      " batch #157: 3.0191571712493896\n",
      " Epoch: (1/50) Loss = 468.17678594589233, Validation Accuracy = 38.24%\n",
      " batch #157: 2.0400671958923345\n",
      " Epoch: (2/50) Loss = 385.1081750392914, Validation Accuracy = 51.84%\n",
      " batch #157: 2.5365037918090825\n",
      " Epoch: (3/50) Loss = 332.1256408691406, Validation Accuracy = 59.2%\n",
      " batch #157: 1.4453296661376953\n",
      " Epoch: (4/50) Loss = 293.1075668334961, Validation Accuracy = 64.8%\n",
      " batch #157: 1.7324041128158575\n",
      " Epoch: (5/50) Loss = 262.9032846689224, Validation Accuracy = 68.96%\n",
      " batch #157: 0.7147885560989383\n",
      " Epoch: (6/50) Loss = 235.74779558181763, Validation Accuracy = 70.88%\n",
      " batch #157: 1.0550737380981445\n",
      " Epoch: (7/50) Loss = 215.4096577167511, Validation Accuracy = 75.04%\n",
      " batch #157: 1.6168726682662964\n",
      " Epoch: (8/50) Loss = 197.64313822984695, Validation Accuracy = 76.96%\n",
      " batch #157: 1.6355137825012207\n",
      " Epoch: (9/50) Loss = 180.49708825349808, Validation Accuracy = 80.48%\n",
      " batch #157: 1.1902871131896973\n",
      " Epoch: (10/50) Loss = 167.46001428365707, Validation Accuracy = 80.8%\n",
      " batch #157: 0.5615788698196411\n",
      " Epoch: (11/50) Loss = 155.7123822569847, Validation Accuracy = 81.92%\n",
      " batch #157: 0.58236455917358457\n",
      " Epoch: (12/50) Loss = 145.34987196326256, Validation Accuracy = 83.04%\n",
      " batch #157: 0.8006396293640137\n",
      " Epoch: (13/50) Loss = 136.5077615082264, Validation Accuracy = 84.16%\n",
      " batch #157: 0.81180715560913095\n",
      " Epoch: (14/50) Loss = 127.7261212170124, Validation Accuracy = 85.6%\n",
      " batch #157: 0.83041965961456375\n",
      " Epoch: (15/50) Loss = 118.40001946687698, Validation Accuracy = 84.64%\n",
      " batch #157: 0.78055125474929815\n",
      " Epoch: (16/50) Loss = 113.82939413189888, Validation Accuracy = 85.76%\n",
      " batch #157: 0.60548973083496095\n",
      " Epoch: (17/50) Loss = 106.11858811974525, Validation Accuracy = 86.4%\n",
      " batch #157: 0.61624836921691986\n",
      " Epoch: (18/50) Loss = 100.84278580546379, Validation Accuracy = 86.08%\n",
      " batch #157: 0.43705007433891296\n",
      " Epoch: (19/50) Loss = 96.25230041146278, Validation Accuracy = 86.4%\n",
      " batch #157: 0.59165453910827644\n",
      " Epoch: (20/50) Loss = 92.29850822687149, Validation Accuracy = 88.0%\n",
      " batch #157: 0.35161051154136667\n",
      " Epoch: (21/50) Loss = 86.47912169992924, Validation Accuracy = 87.84%\n",
      " batch #157: 0.37735605239868164\n",
      " Epoch: (22/50) Loss = 82.39645843207836, Validation Accuracy = 88.8%\n",
      " batch #157: 0.70241916179656984\n",
      " Epoch: (23/50) Loss = 78.38597570359707, Validation Accuracy = 88.64%\n",
      " batch #157: 0.87606215476989754\n",
      " Epoch: (24/50) Loss = 75.63675937056541, Validation Accuracy = 89.12%\n",
      " batch #157: 0.49836218357086185\n",
      " Epoch: (25/50) Loss = 71.7780776321888, Validation Accuracy = 89.12%\n",
      " batch #157: 0.40259549021720886\n",
      " Epoch: (26/50) Loss = 69.66098490357399, Validation Accuracy = 89.6%\n",
      " batch #157: 0.19290393590927124\n",
      " Epoch: (27/50) Loss = 65.27385121583939, Validation Accuracy = 89.76%\n",
      " batch #157: 0.20382648706436157\n",
      " Epoch: (28/50) Loss = 62.96179738640785, Validation Accuracy = 90.24%\n",
      " batch #157: 0.35011455416679387\n",
      " Epoch: (29/50) Loss = 60.48177056014538, Validation Accuracy = 90.24%\n",
      " batch #157: 0.64186829328536995\n",
      " Epoch: (30/50) Loss = 58.26377785205841, Validation Accuracy = 89.76%\n",
      " batch #157: 0.34751048684120186\n",
      " Epoch: (31/50) Loss = 56.43489833176136, Validation Accuracy = 90.4%\n",
      " batch #157: 0.11873231828212738\n",
      " Epoch: (32/50) Loss = 53.33287174999714, Validation Accuracy = 90.56%\n",
      " batch #157: 0.37580451369285583\n",
      " Epoch: (33/50) Loss = 50.73279944062233, Validation Accuracy = 90.72%\n",
      " batch #157: 0.27031788229942324\n",
      " Epoch: (34/50) Loss = 49.044035486876965, Validation Accuracy = 90.88%\n",
      " batch #157: 0.53473812341690066\n",
      " Epoch: (35/50) Loss = 48.20448067039251, Validation Accuracy = 91.04%\n",
      " batch #157: 0.42114228010177618\n",
      " Epoch: (36/50) Loss = 45.12611939013004, Validation Accuracy = 91.68%\n",
      " batch #157: 0.55033284425735474\n",
      " Epoch: (37/50) Loss = 44.370402328670025, Validation Accuracy = 91.36%\n",
      " batch #157: 0.19505262374877932\n",
      " Epoch: (38/50) Loss = 42.58319102972746, Validation Accuracy = 91.2%\n",
      " batch #157: 0.12039551883935928\n",
      " Epoch: (39/50) Loss = 39.48867252469063, Validation Accuracy = 91.84%\n",
      " batch #157: 0.36757877469062805\n",
      " Epoch: (40/50) Loss = 38.898247331380844, Validation Accuracy = 91.36%\n",
      " batch #157: 0.66651749610900884\n",
      " Epoch: (41/50) Loss = 38.464897595345974, Validation Accuracy = 92.0%\n",
      " batch #157: 0.10704644024372101\n",
      " Epoch: (42/50) Loss = 36.200413428246975, Validation Accuracy = 92.16%\n",
      " batch #157: 0.20241008698940277\n",
      " Epoch: (43/50) Loss = 34.67036713659763, Validation Accuracy = 92.16%\n",
      " batch #157: 0.17062100768089294\n",
      " Epoch: (44/50) Loss = 33.26698622107506, Validation Accuracy = 92.0%\n",
      " batch #157: 0.05132000148296356\n",
      " Epoch: (45/50) Loss = 32.49980293959379, Validation Accuracy = 92.0%\n",
      " batch #157: 0.11993908882141113\n",
      " Epoch: (46/50) Loss = 31.201257094740868, Validation Accuracy = 92.64%\n",
      " batch #157: 0.18360370397567752\n",
      " Epoch: (47/50) Loss = 30.905201207846403, Validation Accuracy = 92.8%\n",
      " batch #157: 0.09157923609018326\n",
      " Epoch: (48/50) Loss = 29.058888398110867, Validation Accuracy = 92.48%\n",
      " batch #157: 0.21092469990253448\n",
      " Epoch: (49/50) Loss = 27.794600132852793, Validation Accuracy = 92.64%\n",
      " batch #157: 0.19556984305381775\n",
      " Epoch: (50/50) Loss = 27.684139646589756, Validation Accuracy = 92.96%\n"
     ]
    }
   ],
   "source": [
    "fit(50, model, train_dl, val_dl,10)"
   ]
  }
 ],
 "metadata": {
  "kernelspec": {
   "display_name": "Python 3 (ipykernel)",
   "language": "python",
   "name": "python3"
  },
  "language_info": {
   "codemirror_mode": {
    "name": "ipython",
    "version": 3
   },
   "file_extension": ".py",
   "mimetype": "text/x-python",
   "name": "python",
   "nbconvert_exporter": "python",
   "pygments_lexer": "ipython3",
   "version": "3.11.4"
  }
 },
 "nbformat": 4,
 "nbformat_minor": 4
}
