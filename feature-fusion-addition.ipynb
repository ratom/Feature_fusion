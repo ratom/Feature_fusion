{
 "cells": [
  {
   "cell_type": "code",
   "execution_count": 1,
   "metadata": {
    "_cell_guid": "b1076dfc-b9ad-4769-8c92-a6c4dae69d19",
    "_uuid": "8f2839f25d086af736a60e9eeb907d3b93b6e0e5",
    "execution": {
     "iopub.execute_input": "2023-11-03T05:29:39.344825Z",
     "iopub.status.busy": "2023-11-03T05:29:39.344072Z",
     "iopub.status.idle": "2023-11-03T05:29:45.472241Z",
     "shell.execute_reply": "2023-11-03T05:29:45.471427Z",
     "shell.execute_reply.started": "2023-11-03T05:29:39.344791Z"
    }
   },
   "outputs": [
    {
     "name": "stderr",
     "output_type": "stream",
     "text": [
      "/opt/conda/lib/python3.10/site-packages/scipy/__init__.py:146: UserWarning: A NumPy version >=1.16.5 and <1.23.0 is required for this version of SciPy (detected version 1.23.5\n",
      "  warnings.warn(f\"A NumPy version >={np_minversion} and <{np_maxversion}\"\n"
     ]
    }
   ],
   "source": [
    "\n",
    "import pandas as pd\n",
    "import numpy as np\n",
    "import matplotlib.pyplot as plt\n",
    "\n",
    "import torch\n",
    "from torchvision import transforms\n",
    "from torch.utils.data import Dataset, DataLoader\n",
    "import torch.nn as nn\n",
    "import torch.nn.functional as F\n",
    "\n",
    "from transformers import ViTFeatureExtractor, ViTModel, ViTConfig, AutoConfig\n",
    "\n",
    "from PIL import Image\n",
    "#from torchsummary import summary\n",
    "\n",
    "%matplotlib inline"
   ]
  },
  {
   "cell_type": "code",
   "execution_count": 2,
   "metadata": {
    "execution": {
     "iopub.execute_input": "2023-11-03T05:29:50.053368Z",
     "iopub.status.busy": "2023-11-03T05:29:50.052998Z",
     "iopub.status.idle": "2023-11-03T05:29:50.405621Z",
     "shell.execute_reply": "2023-11-03T05:29:50.404555Z",
     "shell.execute_reply.started": "2023-11-03T05:29:50.053340Z"
    }
   },
   "outputs": [],
   "source": [
    "# Load Training data\n",
    "df = pd.read_excel('/kaggle/input/cowimages/cowimagelow/train.xlsx')\n",
    "df[\"file_path\"] = '/kaggle/input/cowimages/cowimagelow/train/'+df['file']\n",
    "df[\"label\"] = df[\"class\"]"
   ]
  },
  {
   "cell_type": "code",
   "execution_count": 3,
   "metadata": {
    "execution": {
     "iopub.execute_input": "2023-11-03T05:30:00.096374Z",
     "iopub.status.busy": "2023-11-03T05:30:00.095395Z",
     "iopub.status.idle": "2023-11-03T05:30:00.105093Z",
     "shell.execute_reply": "2023-11-03T05:30:00.104106Z",
     "shell.execute_reply.started": "2023-11-03T05:30:00.096338Z"
    }
   },
   "outputs": [],
   "source": [
    "# Define function to add data/model in to GPU (cuda)\n",
    "def get_default_device():\n",
    "    if torch.cuda.is_available():\n",
    "        return torch.device('cuda')\n",
    "    else:\n",
    "        return torch.device('cpu')\n",
    "def to_device(data, device):\n",
    "    # if data is list or tuple, move each of them to device\n",
    "    if isinstance(data, (list, tuple)):\n",
    "        return [to_device(x, device) for x in data]\n",
    "    return data.to(device, non_blocking=True)\n",
    "\n",
    "class DeviceDataLoader():\n",
    "    def __init__(self, dl, device) -> None:\n",
    "        self.dl = dl\n",
    "        self.device = device\n",
    "\n",
    "    def __iter__(self):\n",
    "        for b in self.dl:\n",
    "            # yield only execuate when the function is called\n",
    "            yield to_device(b, self. device)\n",
    "\n",
    "    def __len__(self):\n",
    "        return len(self.dl)"
   ]
  },
  {
   "cell_type": "code",
   "execution_count": 5,
   "metadata": {
    "execution": {
     "iopub.execute_input": "2023-11-03T05:30:15.631174Z",
     "iopub.status.busy": "2023-11-03T05:30:15.630357Z",
     "iopub.status.idle": "2023-11-03T05:30:15.734770Z",
     "shell.execute_reply": "2023-11-03T05:30:15.733880Z",
     "shell.execute_reply.started": "2023-11-03T05:30:15.631142Z"
    }
   },
   "outputs": [],
   "source": [
    "# Define training dataset\n",
    "class cattleDataset(Dataset):\n",
    "    def __init__(self, dataframe, trans_transform=None, res_transform=None):\n",
    "        self.labels = dataframe[\"label\"]\n",
    "        self.images = dataframe[\"file_path\"]\n",
    "        self.trans_transform = trans_transform\n",
    "        self.res_transform = res_transform\n",
    "\n",
    "    def __len__ (self):\n",
    "        return len(self.labels)\n",
    "    \n",
    "    def __getitem__(self, idx):\n",
    "        img_path = self.images[idx]\n",
    "        image = Image.open(img_path)\n",
    "\n",
    "        image_trans = self.trans_transform(np.array(image), return_tensors='pt')\n",
    "        image_trans = image_trans['pixel_values'].squeeze()\n",
    "\n",
    "        image_res = self.res_transform(image)\n",
    "\n",
    "        label = self.labels[idx]\n",
    "\n",
    "        return image_trans, image_res, label\n",
    "\n",
    "trans_transform = ViTFeatureExtractor.from_pretrained('google/vit-large-patch16-224')\n",
    "res_transform = transforms.Compose([\n",
    "    transforms.Resize(256),\n",
    "    transforms.CenterCrop(224),\n",
    "    transforms.ToTensor(),\n",
    "    transforms.Normalize(mean=[0.485, 0.456, 0.406], std=[0.229, 0.224, 0.225]),\n",
    "])\n",
    "\n",
    "\n",
    "train_ds = cattleDataset(df, trans_transform=trans_transform, res_transform=res_transform)\n",
    "train_dl = DataLoader(train_ds, batch_size=16, shuffle=True)"
   ]
  },
  {
   "cell_type": "code",
   "execution_count": 6,
   "metadata": {
    "execution": {
     "iopub.execute_input": "2023-11-03T05:30:19.174231Z",
     "iopub.status.busy": "2023-11-03T05:30:19.173870Z",
     "iopub.status.idle": "2023-11-03T05:30:19.241422Z",
     "shell.execute_reply": "2023-11-03T05:30:19.240631Z",
     "shell.execute_reply.started": "2023-11-03T05:30:19.174202Z"
    }
   },
   "outputs": [],
   "source": [
    "# Load Training data\n",
    "df_test = pd.read_excel(\"/kaggle/input/cowimages/cowimagelow/test.xlsx\")\n",
    "df_test[\"file_path\"] = '/kaggle/input/cowimages/cowimagelow/test/'+df_test[\"file\"]# Create image path\n",
    "df_test[\"label\"] = df_test[\"class\"]"
   ]
  },
  {
   "cell_type": "code",
   "execution_count": 8,
   "metadata": {
    "execution": {
     "iopub.execute_input": "2023-11-03T05:30:25.326280Z",
     "iopub.status.busy": "2023-11-03T05:30:25.325569Z",
     "iopub.status.idle": "2023-11-03T05:30:25.331167Z",
     "shell.execute_reply": "2023-11-03T05:30:25.330211Z",
     "shell.execute_reply.started": "2023-11-03T05:30:25.326251Z"
    }
   },
   "outputs": [],
   "source": [
    "test_ds = cattleDataset(df_test, trans_transform=trans_transform, res_transform=res_transform)\n",
    "val_dl = DataLoader(test_ds, batch_size=16, shuffle=False)"
   ]
  },
  {
   "cell_type": "code",
   "execution_count": 9,
   "metadata": {
    "execution": {
     "iopub.execute_input": "2023-11-03T05:30:29.574499Z",
     "iopub.status.busy": "2023-11-03T05:30:29.573803Z",
     "iopub.status.idle": "2023-11-03T05:30:31.418071Z",
     "shell.execute_reply": "2023-11-03T05:30:31.417219Z",
     "shell.execute_reply.started": "2023-11-03T05:30:29.574470Z"
    }
   },
   "outputs": [
    {
     "name": "stderr",
     "output_type": "stream",
     "text": [
      "Using cache found in /root/.cache/torch/hub/pytorch_vision_v0.10.0\n",
      "/opt/conda/lib/python3.10/site-packages/torchvision/models/_utils.py:208: UserWarning: The parameter 'pretrained' is deprecated since 0.13 and may be removed in the future, please use 'weights' instead.\n",
      "  warnings.warn(\n",
      "/opt/conda/lib/python3.10/site-packages/torchvision/models/_utils.py:223: UserWarning: Arguments other than a weight enum or `None` for 'weights' are deprecated since 0.13 and may be removed in the future. The current behavior is equivalent to passing `weights=None`.\n",
      "  warnings.warn(msg)\n"
     ]
    }
   ],
   "source": [
    "# Modify the model - ResNet\n",
    "model_Res = torch.hub.load('pytorch/vision:v0.10.0', 'resnet50', pretrained=False)\n",
    "\n",
    "# Remove the last layer of the model Res\n",
    "layers_Res = list(model_Res.children())\n",
    "model_Res = nn.Sequential(*layers_Res[:-1])\n",
    "\n",
    "# Set the top layers to be not trainable\n",
    "count = 0\n",
    "for child in model_Res.children():\n",
    "    count += 1\n",
    "    if count < 8:\n",
    "        for param in child.parameters():\n",
    "            param.requires_grad = False\n",
    "# Modify the model - ViT model\n",
    "\n",
    "from transformers import ViTModel, ViTConfig\n",
    "# Load the pre-trained ViT model\n",
    "config = ViTConfig()\n",
    "model_trans = ViTModel(config)\n",
    "count = 0\n",
    "for child in model_trans.children():\n",
    "    count += 1\n",
    "    if count < 4:\n",
    "        for param in child.parameters():\n",
    "            param.requires_grad = False\n",
    "\n",
    "layers_trans = list(model_trans.children()) # Get all the layers from the Transformer model\n",
    "model_trans_top = nn.Sequential(*layers_trans[:-2]) # Remove the normalization layer and pooler layer\n",
    "trans_layer_norm = list(model_trans.children())[2] # Get the normalization layer"
   ]
  },
  {
   "cell_type": "code",
   "execution_count": 20,
   "metadata": {
    "execution": {
     "iopub.execute_input": "2023-11-03T06:51:15.921812Z",
     "iopub.status.busy": "2023-11-03T06:51:15.921402Z",
     "iopub.status.idle": "2023-11-03T06:51:15.932617Z",
     "shell.execute_reply": "2023-11-03T06:51:15.931727Z",
     "shell.execute_reply.started": "2023-11-03T06:51:15.921784Z"
    }
   },
   "outputs": [],
   "source": [
    "class model_final(nn.Module):\n",
    "    def __init__(self, model_trans_top, model_Res, dp_rate = 0.3):\n",
    "        super().__init__()\n",
    "        # All the trans model layers\n",
    "        self.model_trans_top = model_trans_top\n",
    "        #self.trans_layer_norm = trans_layer_norm\n",
    "        self.trans_flatten = nn.Flatten()\n",
    "        self.trans_linear = nn.Linear(150528, 2048)\n",
    "\n",
    "        # All the ResNet model\n",
    "        self.model_Res = model_Res\n",
    "\n",
    "        # Merge the result and pass \n",
    "        self.dropout = nn.Dropout(dp_rate)\n",
    "        self.linear1 = nn.Linear(2048, 25)\n",
    "    \n",
    "        self.self_attention = nn.MultiheadAttention(embed_dim=2048, num_heads=8)\n",
    "     \n",
    "\n",
    "\n",
    "    def forward(self, trans_b, res_b):\n",
    "        # Get intermediate outputs using hidden layer\n",
    "        result_trans = self.model_trans_top(trans_b)\n",
    "        patch_state = result_trans.last_hidden_state[:,1:,:] # Remove the classification token and get the last hidden state of all patchs\n",
    "        #result_trans = self.trans_layer_norm(patch_state)\n",
    "        result_trans = self.trans_flatten(patch_state)\n",
    "        result_trans = self.dropout(result_trans)\n",
    "        result_trans = self.trans_linear(result_trans)\n",
    "\n",
    "       # print('\\n ViT features  shape', result_trans.shape)\n",
    "\n",
    "        result_res = self.model_Res(res_b)\n",
    "\n",
    "        # result_res = result_res.squeeze() # Batch size cannot be 1\n",
    "        result_res = torch.reshape(result_res, (result_res.shape[0], result_res.shape[1]))\n",
    "        \n",
    "        result_merge = result_res + result_trans\n",
    "        \n",
    "     \n",
    "\n",
    "        result_merge = self.dropout(result_merge)\n",
    "        result_merge = self.linear1(result_merge)\n",
    "\n",
    "\n",
    "\n",
    "\n",
    "        return result_merge\n"
   ]
  },
  {
   "cell_type": "code",
   "execution_count": 21,
   "metadata": {
    "execution": {
     "iopub.execute_input": "2023-11-03T06:51:22.607235Z",
     "iopub.status.busy": "2023-11-03T06:51:22.606624Z",
     "iopub.status.idle": "2023-11-03T06:51:25.213825Z",
     "shell.execute_reply": "2023-11-03T06:51:25.212828Z",
     "shell.execute_reply.started": "2023-11-03T06:51:22.607206Z"
    }
   },
   "outputs": [],
   "source": [
    "model = model_final(model_trans_top, model_Res, dp_rate=0.3)"
   ]
  },
  {
   "cell_type": "code",
   "execution_count": 22,
   "metadata": {
    "execution": {
     "iopub.execute_input": "2023-11-03T06:51:25.945515Z",
     "iopub.status.busy": "2023-11-03T06:51:25.944887Z",
     "iopub.status.idle": "2023-11-03T06:51:26.306645Z",
     "shell.execute_reply": "2023-11-03T06:51:26.305674Z",
     "shell.execute_reply.started": "2023-11-03T06:51:25.945483Z"
    }
   },
   "outputs": [],
   "source": [
    "\n",
    "device = torch.device('cuda:0' if torch.cuda.is_available() else 'cpu')\n",
    "train_dl = DeviceDataLoader(train_dl, device)\n",
    "val_dl=DeviceDataLoader(val_dl, device)\n",
    "model = to_device(model, device)"
   ]
  },
  {
   "cell_type": "code",
   "execution_count": 25,
   "metadata": {
    "execution": {
     "iopub.execute_input": "2023-11-03T06:51:49.749647Z",
     "iopub.status.busy": "2023-11-03T06:51:49.749034Z",
     "iopub.status.idle": "2023-11-03T06:51:49.764185Z",
     "shell.execute_reply": "2023-11-03T06:51:49.763266Z",
     "shell.execute_reply.started": "2023-11-03T06:51:49.749614Z"
    }
   },
   "outputs": [],
   "source": [
    "# Define optimizer and learning_rate scheduler\n",
    "params = [param for param in list(model.parameters()) if param.requires_grad]\n",
    "optimizer = torch.optim.Adam(params, lr=1e-4)\n",
    "lr_scheduler = torch.optim.lr_scheduler.ReduceLROnPlateau(\n",
    "    optimizer, \n",
    "    mode='min', \n",
    "    factor=0.1, \n",
    "    patience=2, \n",
    "    verbose=True)\n",
    "\n",
    "def fit(epochs, model, train_dl, val_dl, patience=5):\n",
    "    device = next(model.parameters()).device\n",
    "    opt = optimizer\n",
    "    sched = lr_scheduler\n",
    "    loss_func = nn.CrossEntropyLoss()\n",
    "    \n",
    "    best_val_accuracy = 0\n",
    "    no_improvement_count = 0\n",
    "    \n",
    "    for epoch in range(epochs):\n",
    "        model.train()\n",
    "        batch_num = 1\n",
    "        total_loss = 0\n",
    "        for x_trans, x_res, yb in train_dl:\n",
    "            x_trans = x_trans.to(device)\n",
    "            x_res = x_res.to(device)\n",
    "            yb = yb.to(device)\n",
    "            \n",
    "            preds = model(x_trans, x_res)\n",
    "            loss = loss_func(preds.squeeze(), yb)\n",
    "            loss.backward()\n",
    "            opt.step()\n",
    "            opt.zero_grad()\n",
    "            print('\\r', f'batch #{batch_num}: {loss}', end='')\n",
    "            batch_num += 1\n",
    "            total_loss += loss.item()\n",
    "        \n",
    "        sched.step(total_loss)\n",
    "\n",
    "        model.eval()\n",
    "        num_correct = 0\n",
    "        num_total = 0\n",
    "        with torch.no_grad():\n",
    "            for x_trans, x_res, yb in val_dl:\n",
    "                x_trans = x_trans.to(device)\n",
    "                x_res = x_res.to(device)\n",
    "                yb = yb.to(device)\n",
    "                \n",
    "                preds = model(x_trans, x_res)\n",
    "                _, predicted = torch.max(preds.data, 1)\n",
    "                num_correct += (predicted == yb).sum().item()\n",
    "                num_total += yb.size(0)\n",
    "        \n",
    "        val_accuracy = 100 * num_correct / num_total\n",
    "        print('\\n', f'Epoch: ({epoch+1}/{epochs}) Loss = {total_loss}, Validation Accuracy = {val_accuracy}%')\n",
    "\n",
    "        # Early stopping check\n",
    "        if val_accuracy > best_val_accuracy:\n",
    "            best_val_accuracy = val_accuracy\n",
    "            no_improvement_count = 0\n",
    "        else:\n",
    "            no_improvement_count += 1\n",
    "        \n",
    "        if no_improvement_count >= patience:\n",
    "            print(f'\\nEarly stopping after {patience} epochs without improvement.')\n",
    "            break   "
   ]
  },
  {
   "cell_type": "code",
   "execution_count": 26,
   "metadata": {
    "execution": {
     "iopub.execute_input": "2023-11-03T06:51:57.408572Z",
     "iopub.status.busy": "2023-11-03T06:51:57.408208Z",
     "iopub.status.idle": "2023-11-03T07:59:01.036378Z",
     "shell.execute_reply": "2023-11-03T07:59:01.035338Z",
     "shell.execute_reply.started": "2023-11-03T06:51:57.408541Z"
    }
   },
   "outputs": [
    {
     "name": "stdout",
     "output_type": "stream",
     "text": [
      " batch #157: 2.5864911079406745\n",
      " Epoch: (1/50) Loss = 478.4398777484894, Validation Accuracy = 31.36%\n",
      " batch #157: 1.6029670238494873\n",
      " Epoch: (2/50) Loss = 372.4923143386841, Validation Accuracy = 51.36%\n",
      " batch #157: 1.8886226415634155\n",
      " Epoch: (3/50) Loss = 307.36397325992584, Validation Accuracy = 60.64%\n",
      " batch #157: 1.5976928472518923\n",
      " Epoch: (4/50) Loss = 265.2213386297226, Validation Accuracy = 67.68%\n",
      " batch #157: 1.7031134366989136\n",
      " Epoch: (5/50) Loss = 234.6473103761673, Validation Accuracy = 69.76%\n",
      " batch #157: 1.5089418888092042\n",
      " Epoch: (6/50) Loss = 204.1127052307129, Validation Accuracy = 74.24%\n",
      " batch #157: 2.0120604038238525\n",
      " Epoch: (7/50) Loss = 182.28875368833542, Validation Accuracy = 78.4%\n",
      " batch #157: 0.8827809095382698\n",
      " Epoch: (8/50) Loss = 164.23049688339233, Validation Accuracy = 81.28%\n",
      " batch #157: 1.3181445598602295\n",
      " Epoch: (9/50) Loss = 149.25984892249107, Validation Accuracy = 82.08%\n",
      " batch #157: 0.84517490863800056\n",
      " Epoch: (10/50) Loss = 134.13132816553116, Validation Accuracy = 82.88%\n",
      " batch #157: 0.46128201484680176\n",
      " Epoch: (11/50) Loss = 123.712149143219, Validation Accuracy = 84.64%\n",
      " batch #157: 0.95298862457275394\n",
      " Epoch: (12/50) Loss = 117.14003717899323, Validation Accuracy = 83.04%\n",
      " batch #157: 0.26411387324333197\n",
      " Epoch: (13/50) Loss = 105.69590497016907, Validation Accuracy = 86.4%\n",
      " batch #157: 0.76424962282180795\n",
      " Epoch: (14/50) Loss = 99.0357586145401, Validation Accuracy = 86.4%\n",
      " batch #157: 0.36508631706237793\n",
      " Epoch: (15/50) Loss = 91.03364992141724, Validation Accuracy = 87.36%\n",
      " batch #157: 0.55671066045761114\n",
      " Epoch: (16/50) Loss = 86.36561657488346, Validation Accuracy = 88.0%\n",
      " batch #157: 0.25136011838912964\n",
      " Epoch: (17/50) Loss = 80.14530071616173, Validation Accuracy = 88.48%\n",
      " batch #157: 0.29242178797721863\n",
      " Epoch: (18/50) Loss = 76.04403352737427, Validation Accuracy = 87.68%\n",
      " batch #157: 0.23393401503562927\n",
      " Epoch: (19/50) Loss = 71.44445705413818, Validation Accuracy = 88.16%\n",
      " batch #157: 0.36637860536575327\n",
      " Epoch: (20/50) Loss = 67.58490593731403, Validation Accuracy = 88.0%\n",
      " batch #157: 0.43551844358444214\n",
      " Epoch: (21/50) Loss = 63.823085471987724, Validation Accuracy = 90.08%\n",
      " batch #157: 0.32374596595764165\n",
      " Epoch: (22/50) Loss = 59.211887404322624, Validation Accuracy = 89.6%\n",
      " batch #157: 0.50800406932830814\n",
      " Epoch: (23/50) Loss = 56.09742879122496, Validation Accuracy = 90.56%\n",
      " batch #157: 0.23355422914028168\n",
      " Epoch: (24/50) Loss = 52.50540728867054, Validation Accuracy = 90.56%\n",
      " batch #157: 0.22536288201808936\n",
      " Epoch: (25/50) Loss = 50.163345992565155, Validation Accuracy = 90.88%\n",
      " batch #157: 0.21721364557743073\n",
      " Epoch: (26/50) Loss = 49.70003931224346, Validation Accuracy = 91.84%\n",
      " batch #157: 0.25116661190986633\n",
      " Epoch: (27/50) Loss = 45.907431684434414, Validation Accuracy = 92.0%\n",
      " batch #157: 0.69694930315017702\n",
      " Epoch: (28/50) Loss = 43.671604722738266, Validation Accuracy = 92.0%\n",
      " batch #157: 0.48730629682540894\n",
      " Epoch: (29/50) Loss = 41.13118851184845, Validation Accuracy = 91.84%\n",
      " batch #157: 0.63747572898864753\n",
      " Epoch: (30/50) Loss = 39.398129999637604, Validation Accuracy = 91.84%\n",
      " batch #157: 0.33199357986450195\n",
      " Epoch: (31/50) Loss = 36.99870379269123, Validation Accuracy = 91.84%\n",
      " batch #157: 0.33506262302398682\n",
      " Epoch: (32/50) Loss = 36.64074292033911, Validation Accuracy = 92.0%\n",
      " batch #157: 0.35834309458732605\n",
      " Epoch: (33/50) Loss = 34.7877712585032, Validation Accuracy = 92.0%\n",
      " batch #157: 0.16582982242107396\n",
      " Epoch: (34/50) Loss = 32.20513128489256, Validation Accuracy = 92.32%\n",
      " batch #157: 0.17204043269157416\n",
      " Epoch: (35/50) Loss = 30.924129270017147, Validation Accuracy = 92.8%\n",
      " batch #157: 0.10736489295959473\n",
      " Epoch: (36/50) Loss = 29.07286599650979, Validation Accuracy = 93.28%\n",
      " batch #157: 0.380400359630584775\n",
      " Epoch: (37/50) Loss = 28.289436489343643, Validation Accuracy = 92.8%\n",
      " batch #157: 0.66985964775085455\n",
      " Epoch: (38/50) Loss = 27.604166824370623, Validation Accuracy = 93.6%\n",
      " batch #157: 0.204936280846595766\n",
      " Epoch: (39/50) Loss = 25.789386086165905, Validation Accuracy = 92.8%\n",
      " batch #157: 0.151162698864936836\n",
      " Epoch: (40/50) Loss = 24.777139995247126, Validation Accuracy = 93.6%\n",
      " batch #157: 0.097821302711963655\n",
      " Epoch: (41/50) Loss = 22.948855008929968, Validation Accuracy = 93.44%\n",
      " batch #157: 0.11846733093261719\n",
      " Epoch: (42/50) Loss = 21.843335893005133, Validation Accuracy = 93.92%\n",
      " batch #157: 0.012632863596081734\n",
      " Epoch: (43/50) Loss = 21.560130009427667, Validation Accuracy = 93.6%\n",
      " batch #157: 0.056048445403575976\n",
      " Epoch: (44/50) Loss = 20.60134731605649, Validation Accuracy = 93.76%\n",
      " batch #157: 0.121107071638107325\n",
      " Epoch: (45/50) Loss = 19.985564647242427, Validation Accuracy = 94.24%\n",
      " batch #157: 0.076740421354770664\n",
      " Epoch: (46/50) Loss = 18.87029173783958, Validation Accuracy = 94.56%\n",
      " batch #157: 0.047907218337059025\n",
      " Epoch: (47/50) Loss = 17.780996184796095, Validation Accuracy = 94.4%\n",
      " batch #157: 0.412990540266037665\n",
      " Epoch: (48/50) Loss = 16.889664374291897, Validation Accuracy = 94.24%\n",
      " batch #157: 0.332571566104888914\n",
      " Epoch: (49/50) Loss = 17.34320092573762, Validation Accuracy = 94.08%\n",
      " batch #157: 0.128365337848663336\n",
      " Epoch: (50/50) Loss = 16.092358680441976, Validation Accuracy = 94.56%\n"
     ]
    }
   ],
   "source": [
    "fit(50, model, train_dl, val_dl, 10)\n"
   ]
  }
 ],
 "metadata": {
  "kernelspec": {
   "display_name": "Python 3 (ipykernel)",
   "language": "python",
   "name": "python3"
  },
  "language_info": {
   "codemirror_mode": {
    "name": "ipython",
    "version": 3
   },
   "file_extension": ".py",
   "mimetype": "text/x-python",
   "name": "python",
   "nbconvert_exporter": "python",
   "pygments_lexer": "ipython3",
   "version": "3.11.4"
  }
 },
 "nbformat": 4,
 "nbformat_minor": 4
}
